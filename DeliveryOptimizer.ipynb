{
  "cells": [
    {
      "cell_type": "code",
      "execution_count": null,
      "metadata": {
        "id": "_FKUgd3-Hp4h"
      },
      "outputs": [],
      "source": [
        "import math\n",
        "import random\n",
        "import matplotlib.pyplot as plt"
      ]
    },
    {
      "cell_type": "code",
      "execution_count": null,
      "metadata": {
        "id": "K82hjPxhHtwc"
      },
      "outputs": [],
      "source": [
        "class City:\n",
        "    def __init__(self, name, lat, lng):\n",
        "        self.lat = lat\n",
        "        self.lng = lng\n",
        "        self.name = name"
      ]
    },
    {
      "cell_type": "code",
      "execution_count": null,
      "metadata": {
        "id": "lCT6NwGUHuoC"
      },
      "outputs": [],
      "source": [
        "class TSP:\n",
        "    def __init__(self, coordinates, initial_temp=-1, snhg = False):\n",
        "        self.snhg = snhg\n",
        "        self.coordinates = coordinates\n",
        "        self.N = len(coordinates)\n",
        "        self.T = math.sqrt(N) if initial_temp==-1 else initial_temp\n",
        "        self.alpha = 0.999\n",
        "        self.stop_T = 1e-10\n",
        "        self.nodes = [i for i in range(self.N)]\n",
        "        self.best_path = None\n",
        "        self.best_fit = float('Inf')\n",
        "        self.fitness_list = []\n",
        "        \n",
        "    def cost(self, city1, city2):\n",
        "        # This function return distance between two cities\n",
        "        # in kilo meters\n",
        "        cityA = (city1.lat, city1.lng)\n",
        "        cityB = (city2.lat, city2.lng)\n",
        "        \n",
        "        # return geodesic(cityA, cityB).km\n",
        "        return (city1.lat - city2.lat)**2 + (city1.lng - city2.lng)**2\n",
        "    \n",
        "    def fitness(self, path):\n",
        "        # This function computes total cost for following solution path\n",
        "        fit = 0\n",
        "        n = self.N\n",
        "        coords = self.coordinates\n",
        "        for i in range(n):\n",
        "            fit += self.cost(coords[path[i % n]], coords[path[(i+1) % n]])\n",
        "        return fit\n",
        "    \n",
        "    def initial_path(self):\n",
        "        coords = self.coordinates\n",
        "        curr_node = 4 #random.choice(self.nodes)\n",
        "        path = [curr_node]\n",
        "        nodes_left = set(self.nodes)\n",
        "        \n",
        "        while nodes_left:\n",
        "            next_node = min(nodes_left, key=lambda x: self.cost(coords[curr_node], coords[x]))\n",
        "            curr_node = next_node\n",
        "            path.append(curr_node)\n",
        "            nodes_left.remove(curr_node)\n",
        "            \n",
        "        fit = self.fitness(path)\n",
        "        self.fitness_list.append(fit)\n",
        "        \n",
        "        if fit < self.best_fit:\n",
        "            self.best_fit = fit\n",
        "            self.best_path = path\n",
        "        \n",
        "        return fit, path\n",
        "    \n",
        "    def prob_accept(self, fitness):\n",
        "        # this function will compute probability of accepting a solution with \n",
        "        # bad fitness\n",
        "        return math.exp(-abs(fitness - self.curr_fitness)/ self.T)\n",
        "    \n",
        "    def accept_path(self, path):\n",
        "        fitness = self.fitness(path)\n",
        "        \n",
        "        if fitness < self.curr_fitness:\n",
        "            self.curr_fitness = fitness\n",
        "            self.curr_path = path\n",
        "            \n",
        "            if fitness < self.best_fit:\n",
        "                self.best_fit = fitness\n",
        "                self.best_path = path\n",
        "        else:\n",
        "            if random.random() < self.prob_accept(fitness):\n",
        "                self.curr_fitness = fitness\n",
        "                self.curr_path = path\n",
        "    \n",
        "    def start(self):\n",
        "        N = self.N\n",
        "        self.curr_fitness, self.curr_path = self.initial_path()\n",
        "        # print(self.curr_path)\n",
        "        # print(self.curr_fitness)\n",
        "        \n",
        "        while self.T >= self.stop_T:\n",
        "            path = list(self.curr_path)\n",
        "            \n",
        "            if(self.snhg):\n",
        "              a = random.randint(1, N-1)\n",
        "              b = random.randint(1, N-1)\n",
        "              path[a], path[b] = path[b], path[a]\n",
        "            else:\n",
        "              start = random.randint(1, N-1)\n",
        "              length = random.randint(2, N-1)\n",
        "              \n",
        "              path[start : (start+length)] = reversed(path[start : (start+length)])\n",
        "\n",
        "            self.accept_path(path)\n",
        "            \n",
        "            self.T = self.T * self.alpha\n",
        "            self.fitness_list.append(self.curr_fitness)\n",
        "    \n",
        "    def plot_fitness_learning(self):\n",
        "        plt.plot([i for i in range(len(self.fitness_list))], self.fitness_list)\n",
        "        plt.ylabel(\"Fitness f(n)\")\n",
        "        plt.xlabel(\"Iterations\")\n",
        "        plt.show()"
      ]
    },
    {
      "cell_type": "code",
      "execution_count": null,
      "metadata": {
        "colab": {
          "background_save": true
        },
        "id": "MlFv0ImgH0Sq",
        "outputId": "a0175c78-d2a6-4c51-e209-895a4ff96a5b"
      },
      "outputs": [
        {
          "name": "stdout",
          "output_type": "stream",
          "text": [
            "1\n"
          ]
        }
      ],
      "source": [
        "cities = [ City('0', 23.208492, 72.623324),City('1', 23.201693498993656, 72.64445543857545),City('2', 23.20185127693657, 72.63956308941086),City('3', 23.206742300789138, 72.6468586978142),City('4', 23.216642131804818, 72.64917612636584),City('5', 23.20950328359702, 72.63986349681572),City('6', 23.216642131804818, 72.62883425352359),City('7', 23.207373387603145, 72.6311087667317),City('8', 23.198134687254047, 72.63224472517344),City('9', 23.23627985475752, 72.64343592053481),City('10', 23.236846677984722, 72.64682865408993),City('11', 23.23401253777306, 72.65124948872237),City('12', 23.23235926152179, 72.65022138764506),City('13', 23.22914712340476, 72.64055723751834),City('14', 23.233256756885027, 72.63279507438465),City('15', 23.229052647584133, 72.64024880719515),City('16', 23.22881645774003, 72.62996779642202),City('17', 23.226123863982046, 72.63726731407095),City('18', 23.22277274592091, 72.67275979516798),City('19', 23.241501203524585, 72.67460702229776),City('20', 23.251911052334325, 72.65558058286102),City('21', 23.24427347089138, 72.63193607559984),City('22', 23.247668005528574, 72.66629450021374),City('23', 23.23884203579948, 72.65915188864527),City('24', 23.22639416318717, 72.62430087013007),City('25', 23.258812786853426, 72.65237872249978),City('26', 23.252476781855716, 72.63747775698621),City('27', 23.25377795030707, 72.66210745204994),City('28', 23.23420250988928, 72.67503804200693),City('29', 23.220905414114767, 72.66198430362613),City('30', 23.217906311662013, 72.67085099384909),City('31', 23.218528772426332, 72.62497818679287),City('32', 23.25881278690115, 72.64191110209084),City('33', 23.21298311052329, 72.65687364184996),City('34', 23.20489055829563, 72.62405457316562),City('35', 23.228996995781984, 72.64831482278464),City('36', 23.207267442593828, 72.65693521606585),City('37', 23.197646459512228, 72.64178795360668),City('38', 23.229081870043593, 72.66072203173734),City('39', 23.233495250668593, 72.65576530560575),City('40', 23.230043773128646, 72.66903455382135)]\n",
        "\n",
        "count = 0 # better count of snhg\n",
        "for i in range(100):\n",
        "  tsp = TSP(cities, initial_temp = 5000)\n",
        "  tsp.start()\n",
        "  a = tsp.best_fit\n",
        "  tsp = TSP(cities, initial_temp = 5000, snhg = True)\n",
        "  tsp.start()\n",
        "  b = tsp.best_fit\n",
        "  if(b<a):\n",
        "    count += 1\n",
        "print(count)"
      ]
    },
    {
      "cell_type": "code",
      "execution_count": null,
      "metadata": {
        "colab": {
          "base_uri": "https://localhost:8080/",
          "height": 201
        },
        "id": "D8iQZG2HJgH9",
        "outputId": "cc1b51da-d46d-4ccc-c34b-2d889305560f"
      },
      "outputs": [
        {
          "ename": "NameError",
          "evalue": "ignored",
          "output_type": "error",
          "traceback": [
            "\u001b[0;31m---------------------------------------------------------------------------\u001b[0m",
            "\u001b[0;31mNameError\u001b[0m                                 Traceback (most recent call last)",
            "\u001b[0;32m<ipython-input-6-bc164848cffa>\u001b[0m in \u001b[0;36m<module>\u001b[0;34m()\u001b[0m\n\u001b[0;32m----> 1\u001b[0;31m \u001b[0mtsp\u001b[0m \u001b[0;34m=\u001b[0m \u001b[0mTSP\u001b[0m\u001b[0;34m(\u001b[0m\u001b[0mcities\u001b[0m\u001b[0;34m,\u001b[0m \u001b[0minitial_temp\u001b[0m \u001b[0;34m=\u001b[0m \u001b[0;36m5000\u001b[0m\u001b[0;34m)\u001b[0m\u001b[0;34m\u001b[0m\u001b[0;34m\u001b[0m\u001b[0m\n\u001b[0m\u001b[1;32m      2\u001b[0m \u001b[0mtsp\u001b[0m\u001b[0;34m.\u001b[0m\u001b[0mstart\u001b[0m\u001b[0;34m(\u001b[0m\u001b[0;34m)\u001b[0m\u001b[0;34m\u001b[0m\u001b[0;34m\u001b[0m\u001b[0m\n\u001b[1;32m      3\u001b[0m \u001b[0mtsp\u001b[0m\u001b[0;34m.\u001b[0m\u001b[0mplot_fitness_learning\u001b[0m\u001b[0;34m(\u001b[0m\u001b[0;34m)\u001b[0m\u001b[0;34m\u001b[0m\u001b[0;34m\u001b[0m\u001b[0m\n",
            "\u001b[0;31mNameError\u001b[0m: name 'cities' is not defined"
          ]
        }
      ],
      "source": [
        "tsp = TSP(cities, initial_temp = 5000)\n",
        "tsp.start()\n",
        "tsp.plot_fitness_learning()"
      ]
    },
    {
      "cell_type": "code",
      "execution_count": null,
      "metadata": {
        "id": "lMlb5H5ZH-w-"
      },
      "outputs": [],
      "source": [
        "tsp.best_path"
      ]
    },
    {
      "cell_type": "code",
      "execution_count": null,
      "metadata": {
        "id": "V1oPZZOqH_dz"
      },
      "outputs": [],
      "source": [
        "res = []\n",
        "for i in tsp.best_path:\n",
        "    res.append(cities[i])"
      ]
    },
    {
      "cell_type": "code",
      "execution_count": null,
      "metadata": {
        "id": "odQRG1XuIFOz"
      },
      "outputs": [],
      "source": [
        "plt.figure(figsize=(15, 15), dpi=80)\n",
        "y = []\n",
        "for i in tsp.best_path:\n",
        "    y.append(cities[i].lat)\n",
        "    \n",
        "x = []\n",
        "for i in tsp.best_path:\n",
        "    x.append(cities[i].lng)\n",
        "    \n",
        "plt.plot(x, y, 'oc-')\n",
        "plt.xlabel(\"Latitude\")\n",
        "plt.ylabel(\"Longitude\")\n",
        "for city in res:\n",
        "    plt.text(city.lng + 0.0005, city.lat+ 0.00005, city.name)\n",
        "\n",
        "plt.text(res[0].lng, res[0].lat- 0.001, 'Start')\n",
        "plt.plot(res[0].lng, res[0].lat, 'go', markersize=12)\n",
        "plt.text(res[-1].lng, res[-1].lat- 0.001, 'End')\n",
        "plt.plot(res[-1].lng, res[-1].lat, 'ro', markersize=12)\n",
        "plt.show()"
      ]
    },
    {
      "cell_type": "code",
      "execution_count": null,
      "metadata": {
        "id": "Vl78ArYqII8T"
      },
      "outputs": [],
      "source": [
        "tsp.best_fit"
      ]
    }
  ],
  "metadata": {
    "colab": {
      "collapsed_sections": [],
      "name": "DeliveryOptimizer.ipynb",
      "provenance": []
    },
    "kernelspec": {
      "display_name": "Python 3",
      "name": "python3"
    },
    "language_info": {
      "name": "python"
    }
  },
  "nbformat": 4,
  "nbformat_minor": 0
}